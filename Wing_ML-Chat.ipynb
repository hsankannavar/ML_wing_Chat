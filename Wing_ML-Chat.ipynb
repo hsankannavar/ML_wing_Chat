{
 "cells": [
  {
   "cell_type": "code",
   "execution_count": 11,
   "metadata": {},
   "outputs": [
    {
     "name": "stderr",
     "output_type": "stream",
     "text": [
      "[nltk_data] Downloading package punkt to\n",
      "[nltk_data]     C:\\Users\\user\\AppData\\Roaming\\nltk_data...\n",
      "[nltk_data]   Package punkt is already up-to-date!\n"
     ]
    },
    {
     "data": {
      "text/plain": [
       "True"
      ]
     },
     "execution_count": 11,
     "metadata": {},
     "output_type": "execute_result"
    }
   ],
   "source": [
    "import nltk\n",
    "import numpy as np\n",
    "import json\n",
    "import random\n",
    "import urllib\n",
    "from nltk.stem.lancaster import LancasterStemmer\n",
    "from sklearn.feature_extraction.text import CountVectorizer\n",
    "from sklearn.preprocessing import LabelEncoder\n",
    "nltk.download('punkt')"
   ]
  },
  {
   "cell_type": "code",
   "execution_count": 12,
   "metadata": {
    "scrolled": true
   },
   "outputs": [],
   "source": [
    "file=open(\"C:\\\\Users\\\\user\\\\Desktop\\\\Wing_ML-Chat\\\\Wing_ML_Chat.json.txt\").read()\n",
    "data = json.loads(file)"
   ]
  },
  {
   "cell_type": "code",
   "execution_count": 13,
   "metadata": {},
   "outputs": [],
   "source": [
    "docs_x = []\n",
    "docs_y = []"
   ]
  },
  {
   "cell_type": "code",
   "execution_count": 14,
   "metadata": {},
   "outputs": [],
   "source": [
    "stemmer = LancasterStemmer()\n",
    "for intent in data['intents']:\n",
    "\tfor pattern in intent['patterns']:\n",
    "\t\twrds = nltk.word_tokenize(pattern)\n",
    "\t\twrds = [stemmer.stem(w.lower()) for w in wrds if w != \"?\"]\n",
    "\t\tdocs_x.append(' '.join(wrds))\n",
    "\t\tdocs_y.append(intent[\"tag\"])"
   ]
  },
  {
   "cell_type": "code",
   "execution_count": 15,
   "metadata": {},
   "outputs": [
    {
     "name": "stdout",
     "output_type": "stream",
     "text": [
      "[[0 0 0 ... 0 0 0]\n",
      " [0 0 0 ... 0 0 0]\n",
      " [0 0 0 ... 0 0 0]\n",
      " ...\n",
      " [0 0 0 ... 0 0 0]\n",
      " [0 0 0 ... 0 0 0]\n",
      " [0 0 0 ... 0 0 0]]\n"
     ]
    }
   ],
   "source": [
    "cv = CountVectorizer()\n",
    "X = cv.fit_transform(docs_x).toarray()\n",
    "print(X)"
   ]
  },
  {
   "cell_type": "code",
   "execution_count": 16,
   "metadata": {},
   "outputs": [],
   "source": [
    "le = LabelEncoder()\n",
    "y = le.fit_transform(docs_y)"
   ]
  },
  {
   "cell_type": "code",
   "execution_count": 17,
   "metadata": {},
   "outputs": [
    {
     "data": {
      "text/plain": [
       "SVC(C=1.0, break_ties=False, cache_size=200, class_weight=None, coef0=0.0,\n",
       "    decision_function_shape='ovr', degree=3, gamma='scale', kernel='linear',\n",
       "    max_iter=-1, probability=False, random_state=None, shrinking=True,\n",
       "    tol=0.001, verbose=False)"
      ]
     },
     "execution_count": 17,
     "metadata": {},
     "output_type": "execute_result"
    }
   ],
   "source": [
    "from sklearn.svm import SVC\n",
    "classifier = SVC(kernel='linear')\n",
    "classifier.fit(X, y)"
   ]
  },
  {
   "cell_type": "code",
   "execution_count": 18,
   "metadata": {},
   "outputs": [],
   "source": [
    "\n",
    "def provide_response(sent):\n",
    "  #Pre-Process Input\n",
    "  sent = nltk.word_tokenize(sent)\n",
    "  sent = [stemmer.stem(w.lower()) for w in sent if w != \"?\"]\n",
    "  sent = [' '.join(sent)]\n",
    "  X_pred = cv.transform(sent).toarray()\n",
    "\n",
    "  #Predict\n",
    "  y_pred = classifier.predict(X_pred)\n",
    "  tag = le.inverse_transform(y_pred)\n",
    "  tag = tag[0]\n",
    "\n",
    "  #Get the options to respond\n",
    "  for tg in data['intents']:\n",
    "    if tg['tag'] == tag:\n",
    "      responses = tg['responses']\n",
    "\n",
    "  #Return one of them\n",
    "  return (tag, random.choice(responses))"
   ]
  },
  {
   "cell_type": "code",
   "execution_count": 19,
   "metadata": {},
   "outputs": [
    {
     "name": "stdout",
     "output_type": "stream",
     "text": [
      "('introduction', 'I am MLChat. I can provide you answers to your wing related Questions')\n"
     ]
    }
   ],
   "source": [
    "print(provide_response(\"What can you do?\"))"
   ]
  },
  {
   "cell_type": "code",
   "execution_count": 20,
   "metadata": {},
   "outputs": [
    {
     "name": "stdout",
     "output_type": "stream",
     "text": [
      "BOT : Hello! I am ML Chat.\n",
      "\n",
      "YOU : wingbox\n",
      "\n",
      "BOT : Top skin, Bottom skin, FS, RS, LE, Wing-tip\n",
      "\n",
      "YOU : wing\n",
      "\n",
      "BOT : Top skin, Bottom skin, FS, RS, LE, Wing-tip\n",
      "\n",
      "YOU : damage\n",
      "\n",
      "BOT : corrosion, dent, gouge,  scratch\n",
      "\n",
      "YOU : define damage\n",
      "\n",
      "BOT : corrosion, dent, gouge,  scratch\n",
      "\n",
      "YOU : materials\n",
      "\n",
      "BOT : Top skin- 7150-T651, bottom skin - 2024-T351,  spar web- 2024-T42\n",
      "\n",
      "YOU : top panel\n",
      "\n",
      "BOT : Top skin- 2 panels, str 11 buttstrap, made of 7150-7561, critcal for compression\n",
      "\n",
      "YOU : buttstrap\n",
      "\n",
      "BOT : Top skin, Bottom skin, FS, RS, LE, Wing-tip\n",
      "\n",
      "YOU : see you\n",
      "\n",
      "BOT : Bye! Come back again soon.\n"
     ]
    }
   ],
   "source": [
    "print (\"BOT : Hello! I am ML Chat.\")\n",
    "\n",
    "while True:\n",
    "  inp = input(\"\\nYOU : \")\n",
    "  resp = provide_response(inp)\n",
    "  \n",
    "  print(\"\\nBOT : \" + resp[1])\n",
    "  \n",
    "  if resp[0] == \"goodbye\" : break"
   ]
  }
 ],
 "metadata": {
  "kernelspec": {
   "display_name": "Python 3",
   "language": "python",
   "name": "python3"
  },
  "language_info": {
   "codemirror_mode": {
    "name": "ipython",
    "version": 3
   },
   "file_extension": ".py",
   "mimetype": "text/x-python",
   "name": "python",
   "nbconvert_exporter": "python",
   "pygments_lexer": "ipython3",
   "version": "3.7.6"
  }
 },
 "nbformat": 4,
 "nbformat_minor": 4
}
